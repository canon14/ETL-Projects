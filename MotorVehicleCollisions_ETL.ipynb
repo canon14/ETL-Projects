{
  "nbformat": 4,
  "nbformat_minor": 0,
  "metadata": {
    "colab": {
      "name": "MotorVehicleCollisions-ETL.ipynb",
      "provenance": []
    },
    "kernelspec": {
      "name": "python3",
      "display_name": "Python 3"
    },
    "language_info": {
      "name": "python"
    }
  },
  "cells": [
    {
      "cell_type": "code",
      "source": [
        "from IPython.display import Image\n",
        "from IPython.core.display import HTML \n",
        "Image(url= \"https://heartspringhealth.com/wp-content/uploads/2014/05/cars-c.jpg\", width=1000, height=250)"
      ],
      "metadata": {
        "colab": {
          "base_uri": "https://localhost:8080/",
          "height": 271
        },
        "id": "xI0yAo8UxULQ",
        "outputId": "9a3c7056-792e-49d2-ccb2-22878be2b11b"
      },
      "execution_count": 1,
      "outputs": [
        {
          "output_type": "execute_result",
          "data": {
            "text/plain": [
              "<IPython.core.display.Image object>"
            ],
            "text/html": [
              "<img src=\"https://heartspringhealth.com/wp-content/uploads/2014/05/cars-c.jpg\" width=\"1000\" height=\"250\"/>"
            ]
          },
          "metadata": {},
          "execution_count": 1
        }
      ]
    },
    {
      "cell_type": "markdown",
      "source": [
        "The Motor Vehicle Collisions crash table contains details on the crash event. Each row represents a crash event. The Motor Vehicle Collisions data tables contain information from all police reported motor vehicle collisions in NYC. The police report (MV104-AN) is required to be filled out for collisions where someone is injured or killed, or where there is at least $1000 worth of damage"
      ],
      "metadata": {
        "id": "EQeCZOZExRc8"
      }
    },
    {
      "cell_type": "markdown",
      "source": [
        "Below are the steps to perform our ETL processes:\n",
        "1. Extract data using Python daily from NYC Open Data (https://opendata.cityofnewyork.us/) via Socrata API\n",
        "2. For our initial load, we will only be using data from June 2022 - now to populate our table\n",
        "3. For our daily load, we will perform upsert functions against our data to only inserting newer data to the table\n",
        "4. Data will be stored in the Amazon S3 bucket\n",
        "5. Read and write metadata to the AWS Glue Data Catalog\n",
        "6. Setup AWS Athena to perform ad-hoc queries\n",
        "7. Convert our csv files into parquet format\n",
        "8. We then proceed to perform necessary transformations then load to our Data Warehouse in AWS SQL Server "
      ],
      "metadata": {
        "id": "pIovqtUiySwz"
      }
    },
    {
      "cell_type": "code",
      "source": [
        "#Install required libraries\n",
        "!pip install sodapy"
      ],
      "metadata": {
        "colab": {
          "base_uri": "https://localhost:8080/"
        },
        "id": "mAoCONcp0Zzh",
        "outputId": "f9c4072b-4f44-4cc3-c39e-102c4353686b"
      },
      "execution_count": 2,
      "outputs": [
        {
          "output_type": "stream",
          "name": "stdout",
          "text": [
            "Looking in indexes: https://pypi.org/simple, https://us-python.pkg.dev/colab-wheels/public/simple/\n",
            "Collecting sodapy\n",
            "  Downloading sodapy-2.1.1-py2.py3-none-any.whl (14 kB)\n",
            "Requirement already satisfied: requests>=2.20.0 in /usr/local/lib/python3.7/dist-packages (from sodapy) (2.23.0)\n",
            "Requirement already satisfied: chardet<4,>=3.0.2 in /usr/local/lib/python3.7/dist-packages (from requests>=2.20.0->sodapy) (3.0.4)\n",
            "Requirement already satisfied: idna<3,>=2.5 in /usr/local/lib/python3.7/dist-packages (from requests>=2.20.0->sodapy) (2.10)\n",
            "Requirement already satisfied: certifi>=2017.4.17 in /usr/local/lib/python3.7/dist-packages (from requests>=2.20.0->sodapy) (2022.6.15)\n",
            "Requirement already satisfied: urllib3!=1.25.0,!=1.25.1,<1.26,>=1.21.1 in /usr/local/lib/python3.7/dist-packages (from requests>=2.20.0->sodapy) (1.24.3)\n",
            "Installing collected packages: sodapy\n",
            "Successfully installed sodapy-2.1.1\n"
          ]
        }
      ]
    },
    {
      "cell_type": "code",
      "source": [
        "#Import required Libraries \n",
        "import pandas as pd \n",
        "from sodapy import Socrata "
      ],
      "metadata": {
        "id": "JLmQ3njk0DYb"
      },
      "execution_count": 3,
      "outputs": []
    },
    {
      "cell_type": "markdown",
      "source": [
        "#**Data Extraction**#"
      ],
      "metadata": {
        "id": "5GStOCB8zu_M"
      }
    },
    {
      "cell_type": "code",
      "source": [
        "client = Socrata(\"data.cityofnewyork.us\", None)\n",
        "\n",
        "# Get 10000 results for initial load, then 1000 each day for delta load, returned as JSON from API / converted to Python list of\n",
        "# dictionaries by sodapy.\n",
        "results = client.get(\"h9gi-nx95\", order='crash_date DESC', limit=10000)\n",
        "\n",
        "# Convert to pandas DataFrame\n",
        "df = pd.DataFrame.from_records(results)"
      ],
      "metadata": {
        "colab": {
          "base_uri": "https://localhost:8080/"
        },
        "id": "90qNiLfJxFdU",
        "outputId": "62f0e4fa-65b0-4423-b630-3be483931626"
      },
      "execution_count": 4,
      "outputs": [
        {
          "output_type": "stream",
          "name": "stderr",
          "text": [
            "WARNING:root:Requests made without an app_token will be subject to strict throttling limits.\n"
          ]
        }
      ]
    },
    {
      "cell_type": "code",
      "source": [
        "df.info()"
      ],
      "metadata": {
        "id": "JdVCu23U9Zu7",
        "outputId": "b6faf77f-21d6-4f5f-eaca-c2bfc7373756",
        "colab": {
          "base_uri": "https://localhost:8080/"
        }
      },
      "execution_count": 5,
      "outputs": [
        {
          "output_type": "stream",
          "name": "stdout",
          "text": [
            "<class 'pandas.core.frame.DataFrame'>\n",
            "RangeIndex: 10000 entries, 0 to 9999\n",
            "Data columns (total 29 columns):\n",
            " #   Column                         Non-Null Count  Dtype \n",
            "---  ------                         --------------  ----- \n",
            " 0   crash_date                     10000 non-null  object\n",
            " 1   crash_time                     10000 non-null  object\n",
            " 2   borough                        6736 non-null   object\n",
            " 3   zip_code                       6733 non-null   object\n",
            " 4   latitude                       8997 non-null   object\n",
            " 5   longitude                      8997 non-null   object\n",
            " 6   location                       8997 non-null   object\n",
            " 7   on_street_name                 7208 non-null   object\n",
            " 8   off_street_name                4724 non-null   object\n",
            " 9   number_of_persons_injured      10000 non-null  object\n",
            " 10  number_of_persons_killed       10000 non-null  object\n",
            " 11  number_of_pedestrians_injured  10000 non-null  object\n",
            " 12  number_of_pedestrians_killed   10000 non-null  object\n",
            " 13  number_of_cyclist_injured      10000 non-null  object\n",
            " 14  number_of_cyclist_killed       10000 non-null  object\n",
            " 15  number_of_motorist_injured     10000 non-null  object\n",
            " 16  number_of_motorist_killed      10000 non-null  object\n",
            " 17  contributing_factor_vehicle_1  9958 non-null   object\n",
            " 18  contributing_factor_vehicle_2  7893 non-null   object\n",
            " 19  collision_id                   10000 non-null  object\n",
            " 20  vehicle_type_code1             9888 non-null   object\n",
            " 21  vehicle_type_code2             6832 non-null   object\n",
            " 22  cross_street_name              2792 non-null   object\n",
            " 23  contributing_factor_vehicle_3  980 non-null    object\n",
            " 24  contributing_factor_vehicle_4  269 non-null    object\n",
            " 25  vehicle_type_code_3            911 non-null    object\n",
            " 26  vehicle_type_code_4            242 non-null    object\n",
            " 27  contributing_factor_vehicle_5  83 non-null     object\n",
            " 28  vehicle_type_code_5            80 non-null     object\n",
            "dtypes: object(29)\n",
            "memory usage: 2.2+ MB\n"
          ]
        }
      ]
    },
    {
      "cell_type": "code",
      "source": [
        "#See all the columns in the dataframe\n",
        "pd.set_option('display.max_columns', None)"
      ],
      "metadata": {
        "id": "fmOKpNqS9Vsr"
      },
      "execution_count": 6,
      "outputs": []
    },
    {
      "cell_type": "code",
      "source": [
        "#Check all the column names \n",
        "df.columns"
      ],
      "metadata": {
        "id": "swP-LA1_9IoM",
        "outputId": "3f45eb2e-3cb7-4d57-a5eb-8ef62d1eb23a",
        "colab": {
          "base_uri": "https://localhost:8080/"
        }
      },
      "execution_count": 7,
      "outputs": [
        {
          "output_type": "execute_result",
          "data": {
            "text/plain": [
              "Index(['crash_date', 'crash_time', 'borough', 'zip_code', 'latitude',\n",
              "       'longitude', 'location', 'on_street_name', 'off_street_name',\n",
              "       'number_of_persons_injured', 'number_of_persons_killed',\n",
              "       'number_of_pedestrians_injured', 'number_of_pedestrians_killed',\n",
              "       'number_of_cyclist_injured', 'number_of_cyclist_killed',\n",
              "       'number_of_motorist_injured', 'number_of_motorist_killed',\n",
              "       'contributing_factor_vehicle_1', 'contributing_factor_vehicle_2',\n",
              "       'collision_id', 'vehicle_type_code1', 'vehicle_type_code2',\n",
              "       'cross_street_name', 'contributing_factor_vehicle_3',\n",
              "       'contributing_factor_vehicle_4', 'vehicle_type_code_3',\n",
              "       'vehicle_type_code_4', 'contributing_factor_vehicle_5',\n",
              "       'vehicle_type_code_5'],\n",
              "      dtype='object')"
            ]
          },
          "metadata": {},
          "execution_count": 7
        }
      ]
    },
    {
      "cell_type": "code",
      "source": [
        "#FUNCTIONS\n",
        "\n"
      ],
      "metadata": {
        "id": "LYdLl7Sj2eHc"
      },
      "execution_count": 8,
      "outputs": []
    },
    {
      "cell_type": "code",
      "source": [
        "#Sort result dataframe \n",
        "sorted_df = df.sort_values(by=['crash_date', 'crash_time'], ascending=True)\n",
        "\n",
        "#transform dates\n",
        "sorted_df['crash_time'] = sorted_df['crash_time'].apply(lambda x: '0' + x if len(x) != 5 else x)\n",
        "sorted_df['crash_date_part'] = sorted_df['crash_date'].apply(lambda x: x.split('T')[0])\n",
        "sorted_df['crash_datetime'] = sorted_df['crash_date_part'] + 'T' + sorted_df['crash_time'] + ':00.000'\n",
        "\n",
        "#Create individual tables based on the denormalized data \n",
        "collisions_df = sorted_df[['crash_datetime', 'number_of_persons_injured', 'number_of_persons_killed', 'number_of_pedestrians_injured',              \n",
        "                      'number_of_pedestrians_killed', 'number_of_cyclist_injured', 'number_of_cyclist_killed', 'number_of_motorist_injured',                             \n",
        "                      'number_of_motorist_killed', 'contributing_factor_vehicle_1', 'contributing_factor_vehicle_2', 'vehicle_type_code1', \n",
        "                      'vehicle_type_code2', 'latitude', 'longitude', 'on_street_name', 'borough', 'zip_code',]].reset_index(drop=True)\n",
        "\n",
        "contributing_factor_vehicle_df = collisions_df[['contributing_factor_vehicle_1', 'contributing_factor_vehicle_2']].drop_duplicates().reset_index(drop=True)\n",
        "vehicle_type_code_df = collisions_df[['vehicle_type_code1', 'vehicle_type_code2']].drop_duplicates().reset_index(drop=True)\n",
        "address_df = collisions_df[['latitude', 'longitude', 'on_street_name','borough', 'zip_code']].drop_duplicates().reset_index(drop=True)\n",
        "                                                              "
      ],
      "metadata": {
        "id": "azjXsvykFBwD"
      },
      "execution_count": 9,
      "outputs": []
    },
    {
      "cell_type": "code",
      "source": [
        "collisions_df.head()"
      ],
      "metadata": {
        "colab": {
          "base_uri": "https://localhost:8080/",
          "height": 357
        },
        "id": "OVecKDn663HW",
        "outputId": "c2b9f067-f293-4349-b556-d09c0c06a982"
      },
      "execution_count": 10,
      "outputs": [
        {
          "output_type": "execute_result",
          "data": {
            "text/plain": [
              "            crash_datetime number_of_persons_injured number_of_persons_killed  \\\n",
              "0  2022-06-11T00:00:00.000                         3                        0   \n",
              "1  2022-06-11T00:00:00.000                         0                        0   \n",
              "2  2022-06-11T00:00:00.000                         0                        0   \n",
              "3  2022-06-11T00:05:00.000                         1                        0   \n",
              "4  2022-06-11T00:10:00.000                         0                        0   \n",
              "\n",
              "  number_of_pedestrians_injured number_of_pedestrians_killed  \\\n",
              "0                             0                            0   \n",
              "1                             0                            0   \n",
              "2                             0                            0   \n",
              "3                             0                            0   \n",
              "4                             0                            0   \n",
              "\n",
              "  number_of_cyclist_injured number_of_cyclist_killed  \\\n",
              "0                         0                        0   \n",
              "1                         0                        0   \n",
              "2                         0                        0   \n",
              "3                         0                        0   \n",
              "4                         0                        0   \n",
              "\n",
              "  number_of_motorist_injured number_of_motorist_killed  \\\n",
              "0                          3                         0   \n",
              "1                          0                         0   \n",
              "2                          0                         0   \n",
              "3                          1                         0   \n",
              "4                          0                         0   \n",
              "\n",
              "    contributing_factor_vehicle_1 contributing_factor_vehicle_2  \\\n",
              "0                     Unspecified                   Unspecified   \n",
              "1  Passing or Lane Usage Improper                   Unspecified   \n",
              "2  Passing or Lane Usage Improper                   Unspecified   \n",
              "3                 Fatigued/Drowsy                   Unspecified   \n",
              "4               Oversized Vehicle                           NaN   \n",
              "\n",
              "                    vehicle_type_code1 vehicle_type_code2   latitude  \\\n",
              "0                                Sedan              Sedan  40.718273   \n",
              "1                                Sedan              Sedan  40.718075   \n",
              "2  Station Wagon/Sport Utility Vehicle              Sedan   40.67172   \n",
              "3  Station Wagon/Sport Utility Vehicle      Pick-up Truck   40.70882   \n",
              "4                                Sedan                NaN  40.697433   \n",
              "\n",
              "    longitude           on_street_name    borough zip_code  \n",
              "0   -74.00533            CHURCH STREET  MANHATTAN    10013  \n",
              "1   -73.97511                FDR DRIVE        NaN      NaN  \n",
              "2  -73.850975     NORTH CONDUIT AVENUE     QUEENS    11417  \n",
              "3  -73.751854  FRANCIS LEWIS BOULEVARD     QUEENS    11412  \n",
              "4   -73.93123            MYRTLE AVENUE        NaN      NaN  "
            ],
            "text/html": [
              "\n",
              "  <div id=\"df-8575f528-1b7c-4b0b-a971-3e7960efd753\">\n",
              "    <div class=\"colab-df-container\">\n",
              "      <div>\n",
              "<style scoped>\n",
              "    .dataframe tbody tr th:only-of-type {\n",
              "        vertical-align: middle;\n",
              "    }\n",
              "\n",
              "    .dataframe tbody tr th {\n",
              "        vertical-align: top;\n",
              "    }\n",
              "\n",
              "    .dataframe thead th {\n",
              "        text-align: right;\n",
              "    }\n",
              "</style>\n",
              "<table border=\"1\" class=\"dataframe\">\n",
              "  <thead>\n",
              "    <tr style=\"text-align: right;\">\n",
              "      <th></th>\n",
              "      <th>crash_datetime</th>\n",
              "      <th>number_of_persons_injured</th>\n",
              "      <th>number_of_persons_killed</th>\n",
              "      <th>number_of_pedestrians_injured</th>\n",
              "      <th>number_of_pedestrians_killed</th>\n",
              "      <th>number_of_cyclist_injured</th>\n",
              "      <th>number_of_cyclist_killed</th>\n",
              "      <th>number_of_motorist_injured</th>\n",
              "      <th>number_of_motorist_killed</th>\n",
              "      <th>contributing_factor_vehicle_1</th>\n",
              "      <th>contributing_factor_vehicle_2</th>\n",
              "      <th>vehicle_type_code1</th>\n",
              "      <th>vehicle_type_code2</th>\n",
              "      <th>latitude</th>\n",
              "      <th>longitude</th>\n",
              "      <th>on_street_name</th>\n",
              "      <th>borough</th>\n",
              "      <th>zip_code</th>\n",
              "    </tr>\n",
              "  </thead>\n",
              "  <tbody>\n",
              "    <tr>\n",
              "      <th>0</th>\n",
              "      <td>2022-06-11T00:00:00.000</td>\n",
              "      <td>3</td>\n",
              "      <td>0</td>\n",
              "      <td>0</td>\n",
              "      <td>0</td>\n",
              "      <td>0</td>\n",
              "      <td>0</td>\n",
              "      <td>3</td>\n",
              "      <td>0</td>\n",
              "      <td>Unspecified</td>\n",
              "      <td>Unspecified</td>\n",
              "      <td>Sedan</td>\n",
              "      <td>Sedan</td>\n",
              "      <td>40.718273</td>\n",
              "      <td>-74.00533</td>\n",
              "      <td>CHURCH STREET</td>\n",
              "      <td>MANHATTAN</td>\n",
              "      <td>10013</td>\n",
              "    </tr>\n",
              "    <tr>\n",
              "      <th>1</th>\n",
              "      <td>2022-06-11T00:00:00.000</td>\n",
              "      <td>0</td>\n",
              "      <td>0</td>\n",
              "      <td>0</td>\n",
              "      <td>0</td>\n",
              "      <td>0</td>\n",
              "      <td>0</td>\n",
              "      <td>0</td>\n",
              "      <td>0</td>\n",
              "      <td>Passing or Lane Usage Improper</td>\n",
              "      <td>Unspecified</td>\n",
              "      <td>Sedan</td>\n",
              "      <td>Sedan</td>\n",
              "      <td>40.718075</td>\n",
              "      <td>-73.97511</td>\n",
              "      <td>FDR DRIVE</td>\n",
              "      <td>NaN</td>\n",
              "      <td>NaN</td>\n",
              "    </tr>\n",
              "    <tr>\n",
              "      <th>2</th>\n",
              "      <td>2022-06-11T00:00:00.000</td>\n",
              "      <td>0</td>\n",
              "      <td>0</td>\n",
              "      <td>0</td>\n",
              "      <td>0</td>\n",
              "      <td>0</td>\n",
              "      <td>0</td>\n",
              "      <td>0</td>\n",
              "      <td>0</td>\n",
              "      <td>Passing or Lane Usage Improper</td>\n",
              "      <td>Unspecified</td>\n",
              "      <td>Station Wagon/Sport Utility Vehicle</td>\n",
              "      <td>Sedan</td>\n",
              "      <td>40.67172</td>\n",
              "      <td>-73.850975</td>\n",
              "      <td>NORTH CONDUIT AVENUE</td>\n",
              "      <td>QUEENS</td>\n",
              "      <td>11417</td>\n",
              "    </tr>\n",
              "    <tr>\n",
              "      <th>3</th>\n",
              "      <td>2022-06-11T00:05:00.000</td>\n",
              "      <td>1</td>\n",
              "      <td>0</td>\n",
              "      <td>0</td>\n",
              "      <td>0</td>\n",
              "      <td>0</td>\n",
              "      <td>0</td>\n",
              "      <td>1</td>\n",
              "      <td>0</td>\n",
              "      <td>Fatigued/Drowsy</td>\n",
              "      <td>Unspecified</td>\n",
              "      <td>Station Wagon/Sport Utility Vehicle</td>\n",
              "      <td>Pick-up Truck</td>\n",
              "      <td>40.70882</td>\n",
              "      <td>-73.751854</td>\n",
              "      <td>FRANCIS LEWIS BOULEVARD</td>\n",
              "      <td>QUEENS</td>\n",
              "      <td>11412</td>\n",
              "    </tr>\n",
              "    <tr>\n",
              "      <th>4</th>\n",
              "      <td>2022-06-11T00:10:00.000</td>\n",
              "      <td>0</td>\n",
              "      <td>0</td>\n",
              "      <td>0</td>\n",
              "      <td>0</td>\n",
              "      <td>0</td>\n",
              "      <td>0</td>\n",
              "      <td>0</td>\n",
              "      <td>0</td>\n",
              "      <td>Oversized Vehicle</td>\n",
              "      <td>NaN</td>\n",
              "      <td>Sedan</td>\n",
              "      <td>NaN</td>\n",
              "      <td>40.697433</td>\n",
              "      <td>-73.93123</td>\n",
              "      <td>MYRTLE AVENUE</td>\n",
              "      <td>NaN</td>\n",
              "      <td>NaN</td>\n",
              "    </tr>\n",
              "  </tbody>\n",
              "</table>\n",
              "</div>\n",
              "      <button class=\"colab-df-convert\" onclick=\"convertToInteractive('df-8575f528-1b7c-4b0b-a971-3e7960efd753')\"\n",
              "              title=\"Convert this dataframe to an interactive table.\"\n",
              "              style=\"display:none;\">\n",
              "        \n",
              "  <svg xmlns=\"http://www.w3.org/2000/svg\" height=\"24px\"viewBox=\"0 0 24 24\"\n",
              "       width=\"24px\">\n",
              "    <path d=\"M0 0h24v24H0V0z\" fill=\"none\"/>\n",
              "    <path d=\"M18.56 5.44l.94 2.06.94-2.06 2.06-.94-2.06-.94-.94-2.06-.94 2.06-2.06.94zm-11 1L8.5 8.5l.94-2.06 2.06-.94-2.06-.94L8.5 2.5l-.94 2.06-2.06.94zm10 10l.94 2.06.94-2.06 2.06-.94-2.06-.94-.94-2.06-.94 2.06-2.06.94z\"/><path d=\"M17.41 7.96l-1.37-1.37c-.4-.4-.92-.59-1.43-.59-.52 0-1.04.2-1.43.59L10.3 9.45l-7.72 7.72c-.78.78-.78 2.05 0 2.83L4 21.41c.39.39.9.59 1.41.59.51 0 1.02-.2 1.41-.59l7.78-7.78 2.81-2.81c.8-.78.8-2.07 0-2.86zM5.41 20L4 18.59l7.72-7.72 1.47 1.35L5.41 20z\"/>\n",
              "  </svg>\n",
              "      </button>\n",
              "      \n",
              "  <style>\n",
              "    .colab-df-container {\n",
              "      display:flex;\n",
              "      flex-wrap:wrap;\n",
              "      gap: 12px;\n",
              "    }\n",
              "\n",
              "    .colab-df-convert {\n",
              "      background-color: #E8F0FE;\n",
              "      border: none;\n",
              "      border-radius: 50%;\n",
              "      cursor: pointer;\n",
              "      display: none;\n",
              "      fill: #1967D2;\n",
              "      height: 32px;\n",
              "      padding: 0 0 0 0;\n",
              "      width: 32px;\n",
              "    }\n",
              "\n",
              "    .colab-df-convert:hover {\n",
              "      background-color: #E2EBFA;\n",
              "      box-shadow: 0px 1px 2px rgba(60, 64, 67, 0.3), 0px 1px 3px 1px rgba(60, 64, 67, 0.15);\n",
              "      fill: #174EA6;\n",
              "    }\n",
              "\n",
              "    [theme=dark] .colab-df-convert {\n",
              "      background-color: #3B4455;\n",
              "      fill: #D2E3FC;\n",
              "    }\n",
              "\n",
              "    [theme=dark] .colab-df-convert:hover {\n",
              "      background-color: #434B5C;\n",
              "      box-shadow: 0px 1px 3px 1px rgba(0, 0, 0, 0.15);\n",
              "      filter: drop-shadow(0px 1px 2px rgba(0, 0, 0, 0.3));\n",
              "      fill: #FFFFFF;\n",
              "    }\n",
              "  </style>\n",
              "\n",
              "      <script>\n",
              "        const buttonEl =\n",
              "          document.querySelector('#df-8575f528-1b7c-4b0b-a971-3e7960efd753 button.colab-df-convert');\n",
              "        buttonEl.style.display =\n",
              "          google.colab.kernel.accessAllowed ? 'block' : 'none';\n",
              "\n",
              "        async function convertToInteractive(key) {\n",
              "          const element = document.querySelector('#df-8575f528-1b7c-4b0b-a971-3e7960efd753');\n",
              "          const dataTable =\n",
              "            await google.colab.kernel.invokeFunction('convertToInteractive',\n",
              "                                                     [key], {});\n",
              "          if (!dataTable) return;\n",
              "\n",
              "          const docLinkHtml = 'Like what you see? Visit the ' +\n",
              "            '<a target=\"_blank\" href=https://colab.research.google.com/notebooks/data_table.ipynb>data table notebook</a>'\n",
              "            + ' to learn more about interactive tables.';\n",
              "          element.innerHTML = '';\n",
              "          dataTable['output_type'] = 'display_data';\n",
              "          await google.colab.output.renderOutput(dataTable, element);\n",
              "          const docLink = document.createElement('div');\n",
              "          docLink.innerHTML = docLinkHtml;\n",
              "          element.appendChild(docLink);\n",
              "        }\n",
              "      </script>\n",
              "    </div>\n",
              "  </div>\n",
              "  "
            ]
          },
          "metadata": {},
          "execution_count": 10
        }
      ]
    },
    {
      "cell_type": "code",
      "source": [
        "#Convert dataframes to CSV\n",
        "collisions_df.to_csv('collisions.csv', index=False)\n",
        "contributing_factor_vehicle_df.to_csv('contributing_factor_vehicle.csv', index=False)\n",
        "vehicle_type_code_df.to_csv('vehicle_type_code.csv', index=False)\n",
        "address_df.to_csv('address.csv', index=False)"
      ],
      "metadata": {
        "id": "1lFh2cfvDKuS"
      },
      "execution_count": 13,
      "outputs": []
    },
    {
      "cell_type": "code",
      "source": [
        "# #Create id column for tables\n",
        "# contributing_factor_vehicle_df['contributing_factor_vehicle_id'] = contributing_factor_vehicle_df.index + 1\n",
        "# vehicle_type_code_df['vehicle_type_code_id'] = vehicle_type_code_df.index + 1\n",
        "\n",
        "# crashes_df = sorted_df[['crash_date', 'crash_time', 'number_of_persons_injured', 'number_of_persons_killed', 'number_of_pedestrians_injured',              \n",
        "#                       'number_of_pedestrians_killed', 'number_of_cyclist_injured', 'number_of_cyclist_killed', 'number_of_motorist_injured',                             \n",
        "#                       'number_of_motorist_killed']].reset_index(drop=True)\n",
        "\n",
        "# collisions_df['collisions_id'] = collisions_df.index + 1\n",
        "\n",
        "# #Move columns around so the id would be in the first position\n",
        "# collisions_df = collisions_df[['collision_id', 'crash_date', 'crash_time', 'number_of_persons_injured',\n",
        "#        'number_of_persons_killed', 'number_of_pedestrians_injured',\n",
        "#        'number_of_pedestrians_killed', 'number_of_cyclist_injured',\n",
        "#        'number_of_cyclist_killed', 'number_of_motorist_injured',\n",
        "#        'number_of_motorist_killed']]\n",
        "# contributing_factor_vehicle_df = contributing_factor_vehicle_df[['contributing_factor_vehicle_id', 'contributing_factor_vehicle_1', 'contributing_factor_vehicle_2']]\n",
        "# vehicle_type_code_df = vehicle_type_code_df[['vehicle_type_code_id', 'vehicle_type_code1', 'vehicle_type_code2']] "
      ],
      "metadata": {
        "id": "7MtLngB46SuO"
      },
      "execution_count": 12,
      "outputs": []
    }
  ]
}