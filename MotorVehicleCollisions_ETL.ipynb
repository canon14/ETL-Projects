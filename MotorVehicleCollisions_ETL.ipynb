{
  "nbformat": 4,
  "nbformat_minor": 0,
  "metadata": {
    "colab": {
      "name": "MotorVehicleCollisions-ETL.ipynb",
      "provenance": []
    },
    "kernelspec": {
      "name": "python3",
      "display_name": "Python 3"
    },
    "language_info": {
      "name": "python"
    }
  },
  "cells": [
    {
      "cell_type": "code",
      "source": [
        "from IPython.display import Image\n",
        "from IPython.core.display import HTML \n",
        "Image(url= \"https://heartspringhealth.com/wp-content/uploads/2014/05/cars-c.jpg\", width=1000, height=250)"
      ],
      "metadata": {
        "colab": {
          "base_uri": "https://localhost:8080/",
          "height": 272
        },
        "id": "xI0yAo8UxULQ",
        "outputId": "68c3af40-565a-464e-a9bd-2965a894388e"
      },
      "execution_count": 1,
      "outputs": [
        {
          "output_type": "execute_result",
          "data": {
            "text/plain": [
              "<IPython.core.display.Image object>"
            ],
            "text/html": [
              "<img src=\"https://heartspringhealth.com/wp-content/uploads/2014/05/cars-c.jpg\" width=\"1000\" height=\"250\"/>"
            ]
          },
          "metadata": {},
          "execution_count": 1
        }
      ]
    },
    {
      "cell_type": "markdown",
      "source": [
        "The Motor Vehicle Collisions crash table contains details on the crash event. Each row represents a crash event. The Motor Vehicle Collisions data tables contain information from all police reported motor vehicle collisions in NYC. The police report (MV104-AN) is required to be filled out for collisions where someone is injured or killed, or where there is at least $1000 worth of damage"
      ],
      "metadata": {
        "id": "EQeCZOZExRc8"
      }
    },
    {
      "cell_type": "markdown",
      "source": [
        "Below are the steps to perform our ETL processes:\n",
        "1. Extract data daily from NYC Open Data (https://opendata.cityofnewyork.us/) via Socrata API\n",
        "2. For our initial load, we will only be using data from 2021 - now to populate our table\n",
        "3. For our daily load, we will perform upsert functions against our data to only inserting newer data to the table\n",
        "4. Data will be stored in the Amazon S3 bucket\n",
        "5. We then proceed to perform necessary transformations then load to our Data Warehouse in AWS SQL Server "
      ],
      "metadata": {
        "id": "pIovqtUiySwz"
      }
    },
    {
      "cell_type": "code",
      "source": [
        "#Install required libraries\n",
        "!pip install sodapy"
      ],
      "metadata": {
        "colab": {
          "base_uri": "https://localhost:8080/"
        },
        "id": "mAoCONcp0Zzh",
        "outputId": "c3a20de1-dd37-4d6b-a564-7551e53b42ae"
      },
      "execution_count": 2,
      "outputs": [
        {
          "output_type": "stream",
          "name": "stdout",
          "text": [
            "Looking in indexes: https://pypi.org/simple, https://us-python.pkg.dev/colab-wheels/public/simple/\n",
            "Collecting sodapy\n",
            "  Downloading sodapy-2.1.1-py2.py3-none-any.whl (14 kB)\n",
            "Requirement already satisfied: requests>=2.20.0 in /usr/local/lib/python3.7/dist-packages (from sodapy) (2.23.0)\n",
            "Requirement already satisfied: idna<3,>=2.5 in /usr/local/lib/python3.7/dist-packages (from requests>=2.20.0->sodapy) (2.10)\n",
            "Requirement already satisfied: chardet<4,>=3.0.2 in /usr/local/lib/python3.7/dist-packages (from requests>=2.20.0->sodapy) (3.0.4)\n",
            "Requirement already satisfied: urllib3!=1.25.0,!=1.25.1,<1.26,>=1.21.1 in /usr/local/lib/python3.7/dist-packages (from requests>=2.20.0->sodapy) (1.24.3)\n",
            "Requirement already satisfied: certifi>=2017.4.17 in /usr/local/lib/python3.7/dist-packages (from requests>=2.20.0->sodapy) (2022.6.15)\n",
            "Installing collected packages: sodapy\n",
            "Successfully installed sodapy-2.1.1\n"
          ]
        }
      ]
    },
    {
      "cell_type": "code",
      "source": [
        "#Import required Libraries \n",
        "import pandas as pd \n",
        "from sodapy import Socrata \n",
        "# from geopy.geocoders import Nominatim\n",
        "# from geopy.extra.rate_limiter import RateLimiter"
      ],
      "metadata": {
        "id": "JLmQ3njk0DYb"
      },
      "execution_count": 52,
      "outputs": []
    },
    {
      "cell_type": "markdown",
      "source": [
        "#**Data Extraction**#"
      ],
      "metadata": {
        "id": "5GStOCB8zu_M"
      }
    },
    {
      "cell_type": "code",
      "source": [
        "client = Socrata(\"data.cityofnewyork.us\", None)\n",
        "\n",
        "# Get 1000 results, returned as JSON from API / converted to Python list of\n",
        "# dictionaries by sodapy.\n",
        "results = client.get(\"h9gi-nx95\", order='crash_date DESC', limit=2000)\n",
        "\n",
        "# Convert to pandas DataFrame\n",
        "df = pd.DataFrame.from_records(results)"
      ],
      "metadata": {
        "colab": {
          "base_uri": "https://localhost:8080/"
        },
        "id": "90qNiLfJxFdU",
        "outputId": "5e0bb383-466b-41d8-fa58-20966ac69380"
      },
      "execution_count": 53,
      "outputs": [
        {
          "output_type": "stream",
          "name": "stderr",
          "text": [
            "WARNING:root:Requests made without an app_token will be subject to strict throttling limits.\n"
          ]
        }
      ]
    },
    {
      "cell_type": "code",
      "source": [
        "df.info()"
      ],
      "metadata": {
        "id": "JdVCu23U9Zu7",
        "outputId": "81f09778-f594-4d2b-f241-8ef0900b028d",
        "colab": {
          "base_uri": "https://localhost:8080/"
        }
      },
      "execution_count": 54,
      "outputs": [
        {
          "output_type": "stream",
          "name": "stdout",
          "text": [
            "<class 'pandas.core.frame.DataFrame'>\n",
            "RangeIndex: 2000 entries, 0 to 1999\n",
            "Data columns (total 29 columns):\n",
            " #   Column                         Non-Null Count  Dtype \n",
            "---  ------                         --------------  ----- \n",
            " 0   crash_date                     2000 non-null   object\n",
            " 1   crash_time                     2000 non-null   object\n",
            " 2   latitude                       1832 non-null   object\n",
            " 3   longitude                      1832 non-null   object\n",
            " 4   location                       1832 non-null   object\n",
            " 5   on_street_name                 1452 non-null   object\n",
            " 6   number_of_persons_injured      2000 non-null   object\n",
            " 7   number_of_persons_killed       2000 non-null   object\n",
            " 8   number_of_pedestrians_injured  2000 non-null   object\n",
            " 9   number_of_pedestrians_killed   2000 non-null   object\n",
            " 10  number_of_cyclist_injured      2000 non-null   object\n",
            " 11  number_of_cyclist_killed       2000 non-null   object\n",
            " 12  number_of_motorist_injured     2000 non-null   object\n",
            " 13  number_of_motorist_killed      2000 non-null   object\n",
            " 14  contributing_factor_vehicle_1  1988 non-null   object\n",
            " 15  contributing_factor_vehicle_2  1552 non-null   object\n",
            " 16  collision_id                   2000 non-null   object\n",
            " 17  vehicle_type_code1             1972 non-null   object\n",
            " 18  off_street_name                951 non-null    object\n",
            " 19  vehicle_type_code2             1377 non-null   object\n",
            " 20  borough                        1326 non-null   object\n",
            " 21  zip_code                       1326 non-null   object\n",
            " 22  cross_street_name              548 non-null    object\n",
            " 23  contributing_factor_vehicle_3  173 non-null    object\n",
            " 24  vehicle_type_code_3            167 non-null    object\n",
            " 25  contributing_factor_vehicle_4  43 non-null     object\n",
            " 26  vehicle_type_code_4            40 non-null     object\n",
            " 27  contributing_factor_vehicle_5  15 non-null     object\n",
            " 28  vehicle_type_code_5            15 non-null     object\n",
            "dtypes: object(29)\n",
            "memory usage: 453.2+ KB\n"
          ]
        }
      ]
    },
    {
      "cell_type": "code",
      "source": [
        "#See all the columns in the dataframe\n",
        "pd.set_option('display.max_columns', None)"
      ],
      "metadata": {
        "id": "fmOKpNqS9Vsr"
      },
      "execution_count": 55,
      "outputs": []
    },
    {
      "cell_type": "code",
      "source": [
        "#Check all the column names \n",
        "df.columns"
      ],
      "metadata": {
        "id": "swP-LA1_9IoM",
        "outputId": "295b1d50-8589-433e-ec90-2f5ca7f3e2a1",
        "colab": {
          "base_uri": "https://localhost:8080/"
        }
      },
      "execution_count": 56,
      "outputs": [
        {
          "output_type": "execute_result",
          "data": {
            "text/plain": [
              "Index(['crash_date', 'crash_time', 'latitude', 'longitude', 'location',\n",
              "       'on_street_name', 'number_of_persons_injured',\n",
              "       'number_of_persons_killed', 'number_of_pedestrians_injured',\n",
              "       'number_of_pedestrians_killed', 'number_of_cyclist_injured',\n",
              "       'number_of_cyclist_killed', 'number_of_motorist_injured',\n",
              "       'number_of_motorist_killed', 'contributing_factor_vehicle_1',\n",
              "       'contributing_factor_vehicle_2', 'collision_id', 'vehicle_type_code1',\n",
              "       'off_street_name', 'vehicle_type_code2', 'borough', 'zip_code',\n",
              "       'cross_street_name', 'contributing_factor_vehicle_3',\n",
              "       'vehicle_type_code_3', 'contributing_factor_vehicle_4',\n",
              "       'vehicle_type_code_4', 'contributing_factor_vehicle_5',\n",
              "       'vehicle_type_code_5'],\n",
              "      dtype='object')"
            ]
          },
          "metadata": {},
          "execution_count": 56
        }
      ]
    },
    {
      "cell_type": "code",
      "source": [
        "sorted_df = df.sort_values(by=['crash_date', 'crash_time'], ascending=True)"
      ],
      "metadata": {
        "id": "nG7gf6Xp7tEl"
      },
      "execution_count": 57,
      "outputs": []
    },
    {
      "cell_type": "code",
      "source": [
        "sorted_df = sorted_df[['crash_date', 'crash_time', 'number_of_persons_injured', 'number_of_persons_killed', 'number_of_pedestrians_injured',              \n",
        "                      'number_of_pedestrians_killed', 'number_of_cyclist_injured', 'number_of_cyclist_killed', 'number_of_motorist_injured',                             \n",
        "                      'number_of_motorist_killed', 'contributing_factor_vehicle_1', 'contributing_factor_vehicle_2', 'vehicle_type_code1', \n",
        "                      'vehicle_type_code2', 'latitude', 'longitude', 'on_street_name', 'borough', 'zip_code',]].reset_index(drop=True)"
      ],
      "metadata": {
        "id": "azjXsvykFBwD"
      },
      "execution_count": 62,
      "outputs": []
    },
    {
      "cell_type": "code",
      "source": [
        "sorted_df.head()"
      ],
      "metadata": {
        "colab": {
          "base_uri": "https://localhost:8080/",
          "height": 357
        },
        "id": "BMtTMZIrztRm",
        "outputId": "0dfb6d1f-09f5-42c7-92ec-68e43fe9ab44"
      },
      "execution_count": 63,
      "outputs": [
        {
          "output_type": "execute_result",
          "data": {
            "text/plain": [
              "                crash_date crash_time number_of_persons_injured  \\\n",
              "0  2022-07-06T00:00:00.000       0:35                         0   \n",
              "1  2022-07-06T00:00:00.000      10:00                         0   \n",
              "2  2022-07-06T00:00:00.000      10:02                         0   \n",
              "3  2022-07-06T00:00:00.000      10:15                         1   \n",
              "4  2022-07-06T00:00:00.000      10:25                         1   \n",
              "\n",
              "  number_of_persons_killed number_of_pedestrians_injured  \\\n",
              "0                        0                             0   \n",
              "1                        0                             0   \n",
              "2                        0                             0   \n",
              "3                        0                             0   \n",
              "4                        0                             0   \n",
              "\n",
              "  number_of_pedestrians_killed number_of_cyclist_injured  \\\n",
              "0                            0                         0   \n",
              "1                            0                         0   \n",
              "2                            0                         0   \n",
              "3                            0                         1   \n",
              "4                            0                         0   \n",
              "\n",
              "  number_of_cyclist_killed number_of_motorist_injured  \\\n",
              "0                        0                          0   \n",
              "1                        0                          0   \n",
              "2                        0                          0   \n",
              "3                        0                          0   \n",
              "4                        0                          1   \n",
              "\n",
              "  number_of_motorist_killed contributing_factor_vehicle_1  \\\n",
              "0                         0          Unsafe Lane Changing   \n",
              "1                         0                   Unspecified   \n",
              "2                         0                   Unspecified   \n",
              "3                         0                        Illnes   \n",
              "4                         0                   Unspecified   \n",
              "\n",
              "  contributing_factor_vehicle_2                   vehicle_type_code1  \\\n",
              "0                   Unspecified                 Tractor Truck Diesel   \n",
              "1                           NaN                                Sedan   \n",
              "2                           NaN                    Garbage or Refuse   \n",
              "3                           NaN                                 Bike   \n",
              "4                           NaN  Station Wagon/Sport Utility Vehicle   \n",
              "\n",
              "                    vehicle_type_code2   latitude   longitude  \\\n",
              "0  Station Wagon/Sport Utility Vehicle  40.730442   -73.91367   \n",
              "1                                  NaN  40.751854  -74.002396   \n",
              "2                                  NaN  40.869843   -73.91588   \n",
              "3                                  NaN        NaN         NaN   \n",
              "4                                  NaN  40.668648   -73.92835   \n",
              "\n",
              "           on_street_name    borough zip_code  \n",
              "0  LONG ISLAND EXPRESSWAY        NaN      NaN  \n",
              "1                     NaN  MANHATTAN    10001  \n",
              "2                BROADWAY        NaN      NaN  \n",
              "3                     NaN        NaN      NaN  \n",
              "4         EASTERN PARKWAY        NaN      NaN  "
            ],
            "text/html": [
              "\n",
              "  <div id=\"df-a9580219-28d4-4120-92c4-93d97e36e300\">\n",
              "    <div class=\"colab-df-container\">\n",
              "      <div>\n",
              "<style scoped>\n",
              "    .dataframe tbody tr th:only-of-type {\n",
              "        vertical-align: middle;\n",
              "    }\n",
              "\n",
              "    .dataframe tbody tr th {\n",
              "        vertical-align: top;\n",
              "    }\n",
              "\n",
              "    .dataframe thead th {\n",
              "        text-align: right;\n",
              "    }\n",
              "</style>\n",
              "<table border=\"1\" class=\"dataframe\">\n",
              "  <thead>\n",
              "    <tr style=\"text-align: right;\">\n",
              "      <th></th>\n",
              "      <th>crash_date</th>\n",
              "      <th>crash_time</th>\n",
              "      <th>number_of_persons_injured</th>\n",
              "      <th>number_of_persons_killed</th>\n",
              "      <th>number_of_pedestrians_injured</th>\n",
              "      <th>number_of_pedestrians_killed</th>\n",
              "      <th>number_of_cyclist_injured</th>\n",
              "      <th>number_of_cyclist_killed</th>\n",
              "      <th>number_of_motorist_injured</th>\n",
              "      <th>number_of_motorist_killed</th>\n",
              "      <th>contributing_factor_vehicle_1</th>\n",
              "      <th>contributing_factor_vehicle_2</th>\n",
              "      <th>vehicle_type_code1</th>\n",
              "      <th>vehicle_type_code2</th>\n",
              "      <th>latitude</th>\n",
              "      <th>longitude</th>\n",
              "      <th>on_street_name</th>\n",
              "      <th>borough</th>\n",
              "      <th>zip_code</th>\n",
              "    </tr>\n",
              "  </thead>\n",
              "  <tbody>\n",
              "    <tr>\n",
              "      <th>0</th>\n",
              "      <td>2022-07-06T00:00:00.000</td>\n",
              "      <td>0:35</td>\n",
              "      <td>0</td>\n",
              "      <td>0</td>\n",
              "      <td>0</td>\n",
              "      <td>0</td>\n",
              "      <td>0</td>\n",
              "      <td>0</td>\n",
              "      <td>0</td>\n",
              "      <td>0</td>\n",
              "      <td>Unsafe Lane Changing</td>\n",
              "      <td>Unspecified</td>\n",
              "      <td>Tractor Truck Diesel</td>\n",
              "      <td>Station Wagon/Sport Utility Vehicle</td>\n",
              "      <td>40.730442</td>\n",
              "      <td>-73.91367</td>\n",
              "      <td>LONG ISLAND EXPRESSWAY</td>\n",
              "      <td>NaN</td>\n",
              "      <td>NaN</td>\n",
              "    </tr>\n",
              "    <tr>\n",
              "      <th>1</th>\n",
              "      <td>2022-07-06T00:00:00.000</td>\n",
              "      <td>10:00</td>\n",
              "      <td>0</td>\n",
              "      <td>0</td>\n",
              "      <td>0</td>\n",
              "      <td>0</td>\n",
              "      <td>0</td>\n",
              "      <td>0</td>\n",
              "      <td>0</td>\n",
              "      <td>0</td>\n",
              "      <td>Unspecified</td>\n",
              "      <td>NaN</td>\n",
              "      <td>Sedan</td>\n",
              "      <td>NaN</td>\n",
              "      <td>40.751854</td>\n",
              "      <td>-74.002396</td>\n",
              "      <td>NaN</td>\n",
              "      <td>MANHATTAN</td>\n",
              "      <td>10001</td>\n",
              "    </tr>\n",
              "    <tr>\n",
              "      <th>2</th>\n",
              "      <td>2022-07-06T00:00:00.000</td>\n",
              "      <td>10:02</td>\n",
              "      <td>0</td>\n",
              "      <td>0</td>\n",
              "      <td>0</td>\n",
              "      <td>0</td>\n",
              "      <td>0</td>\n",
              "      <td>0</td>\n",
              "      <td>0</td>\n",
              "      <td>0</td>\n",
              "      <td>Unspecified</td>\n",
              "      <td>NaN</td>\n",
              "      <td>Garbage or Refuse</td>\n",
              "      <td>NaN</td>\n",
              "      <td>40.869843</td>\n",
              "      <td>-73.91588</td>\n",
              "      <td>BROADWAY</td>\n",
              "      <td>NaN</td>\n",
              "      <td>NaN</td>\n",
              "    </tr>\n",
              "    <tr>\n",
              "      <th>3</th>\n",
              "      <td>2022-07-06T00:00:00.000</td>\n",
              "      <td>10:15</td>\n",
              "      <td>1</td>\n",
              "      <td>0</td>\n",
              "      <td>0</td>\n",
              "      <td>0</td>\n",
              "      <td>1</td>\n",
              "      <td>0</td>\n",
              "      <td>0</td>\n",
              "      <td>0</td>\n",
              "      <td>Illnes</td>\n",
              "      <td>NaN</td>\n",
              "      <td>Bike</td>\n",
              "      <td>NaN</td>\n",
              "      <td>NaN</td>\n",
              "      <td>NaN</td>\n",
              "      <td>NaN</td>\n",
              "      <td>NaN</td>\n",
              "      <td>NaN</td>\n",
              "    </tr>\n",
              "    <tr>\n",
              "      <th>4</th>\n",
              "      <td>2022-07-06T00:00:00.000</td>\n",
              "      <td>10:25</td>\n",
              "      <td>1</td>\n",
              "      <td>0</td>\n",
              "      <td>0</td>\n",
              "      <td>0</td>\n",
              "      <td>0</td>\n",
              "      <td>0</td>\n",
              "      <td>1</td>\n",
              "      <td>0</td>\n",
              "      <td>Unspecified</td>\n",
              "      <td>NaN</td>\n",
              "      <td>Station Wagon/Sport Utility Vehicle</td>\n",
              "      <td>NaN</td>\n",
              "      <td>40.668648</td>\n",
              "      <td>-73.92835</td>\n",
              "      <td>EASTERN PARKWAY</td>\n",
              "      <td>NaN</td>\n",
              "      <td>NaN</td>\n",
              "    </tr>\n",
              "  </tbody>\n",
              "</table>\n",
              "</div>\n",
              "      <button class=\"colab-df-convert\" onclick=\"convertToInteractive('df-a9580219-28d4-4120-92c4-93d97e36e300')\"\n",
              "              title=\"Convert this dataframe to an interactive table.\"\n",
              "              style=\"display:none;\">\n",
              "        \n",
              "  <svg xmlns=\"http://www.w3.org/2000/svg\" height=\"24px\"viewBox=\"0 0 24 24\"\n",
              "       width=\"24px\">\n",
              "    <path d=\"M0 0h24v24H0V0z\" fill=\"none\"/>\n",
              "    <path d=\"M18.56 5.44l.94 2.06.94-2.06 2.06-.94-2.06-.94-.94-2.06-.94 2.06-2.06.94zm-11 1L8.5 8.5l.94-2.06 2.06-.94-2.06-.94L8.5 2.5l-.94 2.06-2.06.94zm10 10l.94 2.06.94-2.06 2.06-.94-2.06-.94-.94-2.06-.94 2.06-2.06.94z\"/><path d=\"M17.41 7.96l-1.37-1.37c-.4-.4-.92-.59-1.43-.59-.52 0-1.04.2-1.43.59L10.3 9.45l-7.72 7.72c-.78.78-.78 2.05 0 2.83L4 21.41c.39.39.9.59 1.41.59.51 0 1.02-.2 1.41-.59l7.78-7.78 2.81-2.81c.8-.78.8-2.07 0-2.86zM5.41 20L4 18.59l7.72-7.72 1.47 1.35L5.41 20z\"/>\n",
              "  </svg>\n",
              "      </button>\n",
              "      \n",
              "  <style>\n",
              "    .colab-df-container {\n",
              "      display:flex;\n",
              "      flex-wrap:wrap;\n",
              "      gap: 12px;\n",
              "    }\n",
              "\n",
              "    .colab-df-convert {\n",
              "      background-color: #E8F0FE;\n",
              "      border: none;\n",
              "      border-radius: 50%;\n",
              "      cursor: pointer;\n",
              "      display: none;\n",
              "      fill: #1967D2;\n",
              "      height: 32px;\n",
              "      padding: 0 0 0 0;\n",
              "      width: 32px;\n",
              "    }\n",
              "\n",
              "    .colab-df-convert:hover {\n",
              "      background-color: #E2EBFA;\n",
              "      box-shadow: 0px 1px 2px rgba(60, 64, 67, 0.3), 0px 1px 3px 1px rgba(60, 64, 67, 0.15);\n",
              "      fill: #174EA6;\n",
              "    }\n",
              "\n",
              "    [theme=dark] .colab-df-convert {\n",
              "      background-color: #3B4455;\n",
              "      fill: #D2E3FC;\n",
              "    }\n",
              "\n",
              "    [theme=dark] .colab-df-convert:hover {\n",
              "      background-color: #434B5C;\n",
              "      box-shadow: 0px 1px 3px 1px rgba(0, 0, 0, 0.15);\n",
              "      filter: drop-shadow(0px 1px 2px rgba(0, 0, 0, 0.3));\n",
              "      fill: #FFFFFF;\n",
              "    }\n",
              "  </style>\n",
              "\n",
              "      <script>\n",
              "        const buttonEl =\n",
              "          document.querySelector('#df-a9580219-28d4-4120-92c4-93d97e36e300 button.colab-df-convert');\n",
              "        buttonEl.style.display =\n",
              "          google.colab.kernel.accessAllowed ? 'block' : 'none';\n",
              "\n",
              "        async function convertToInteractive(key) {\n",
              "          const element = document.querySelector('#df-a9580219-28d4-4120-92c4-93d97e36e300');\n",
              "          const dataTable =\n",
              "            await google.colab.kernel.invokeFunction('convertToInteractive',\n",
              "                                                     [key], {});\n",
              "          if (!dataTable) return;\n",
              "\n",
              "          const docLinkHtml = 'Like what you see? Visit the ' +\n",
              "            '<a target=\"_blank\" href=https://colab.research.google.com/notebooks/data_table.ipynb>data table notebook</a>'\n",
              "            + ' to learn more about interactive tables.';\n",
              "          element.innerHTML = '';\n",
              "          dataTable['output_type'] = 'display_data';\n",
              "          await google.colab.output.renderOutput(dataTable, element);\n",
              "          const docLink = document.createElement('div');\n",
              "          docLink.innerHTML = docLinkHtml;\n",
              "          element.appendChild(docLink);\n",
              "        }\n",
              "      </script>\n",
              "    </div>\n",
              "  </div>\n",
              "  "
            ]
          },
          "metadata": {},
          "execution_count": 63
        }
      ]
    },
    {
      "cell_type": "code",
      "source": [
        ""
      ],
      "metadata": {
        "id": "OW3Kg6oUrA6g"
      },
      "execution_count": null,
      "outputs": []
    }
  ]
}