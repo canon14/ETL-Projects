{
  "nbformat": 4,
  "nbformat_minor": 0,
  "metadata": {
    "colab": {
      "name": "CS50P HW.ipynb",
      "provenance": [],
      "authorship_tag": "ABX9TyOaIdFjdXSw/HPwbs+VeX8P",
      "include_colab_link": true
    },
    "kernelspec": {
      "name": "python3",
      "display_name": "Python 3"
    },
    "language_info": {
      "name": "python"
    }
  },
  "cells": [
    {
      "cell_type": "markdown",
      "metadata": {
        "id": "view-in-github",
        "colab_type": "text"
      },
      "source": [
        "<a href=\"https://colab.research.google.com/github/canon14/ETL-Projects/blob/main/CS50P_HW.ipynb\" target=\"_parent\"><img src=\"https://colab.research.google.com/assets/colab-badge.svg\" alt=\"Open In Colab\"/></a>"
      ]
    },
    {
      "cell_type": "markdown",
      "source": [
        "#**WEEK 1**"
      ],
      "metadata": {
        "id": "Lmdrc1LOVK2J"
      }
    },
    {
      "cell_type": "code",
      "execution_count": null,
      "metadata": {
        "colab": {
          "base_uri": "https://localhost:8080/"
        },
        "id": "_x7-DXjwVJpL",
        "outputId": "9404f963-7307-4c45-f195-7bd8dd458aba"
      },
      "outputs": [
        {
          "output_type": "stream",
          "name": "stdout",
          "text": [
            "What is the Answer to the Great Question of Life, the universe, and Everything? 42\n",
            "Yes\n"
          ]
        }
      ],
      "source": [
        "#Deep Thought\n",
        "answer = input(\"What is the Answer to the Great Question of Life, the universe, and Everything? \")\n",
        "if answer == '42' or answer.lower()=='forty-two' or answer.lower()=='forty two':\n",
        "  print('Yes')\n",
        "else:\n",
        "  print('No')"
      ]
    },
    {
      "cell_type": "code",
      "source": [
        "#Home Federal Savings Bank\n",
        "greeting = input('Insert your greeting: ')\n",
        "clean_greeting = greeting.lower().strip()\n",
        "\n",
        "if clean_greeting[:5] == 'hello':\n",
        "  print('$0')\n",
        "elif clean_greeting[:5] != 'hello' and clean_greeting[0] == 'h':\n",
        "  print('$20')\n",
        "else:\n",
        "  print('$100')"
      ],
      "metadata": {
        "colab": {
          "base_uri": "https://localhost:8080/"
        },
        "id": "ovN5AXHRWSZi",
        "outputId": "c51f5bdf-62aa-4a75-d6ce-2e7a17c60ed0"
      },
      "execution_count": null,
      "outputs": [
        {
          "output_type": "stream",
          "name": "stdout",
          "text": [
            "Insert your greeting: What is happening\n",
            "$100\n"
          ]
        }
      ]
    },
    {
      "cell_type": "code",
      "source": [
        "#File Extension\n",
        "\n",
        "file_name = input(\"Insert file name: \")\n",
        "file_name = file_name.lower()\n",
        "\n",
        "if '.' not in file_name:\n",
        "  print('application/octet-stream')\n",
        "else:\n",
        "  if file_name.split('.')[1] == 'gif':\n",
        "    print('image/gif')\n",
        "  elif file_name.split('.')[1] == 'jpg':\n",
        "    print('image/jpg')\n",
        "  elif file_name.split('.')[1] == 'jpeg':\n",
        "    print('image/jpeg')\n",
        "  elif file_name.split('.')[1] == 'png':\n",
        "    print('image/png')\n",
        "  elif file_name.split('.')[1] == 'pdf':\n",
        "    print('image/pdf')\n",
        "  elif file_name.split('.')[1] == 'txt':\n",
        "    print('image/txt')\n",
        "  elif file_name.split('.')[1] == 'zip':\n",
        "    print('image/zip')\n",
        "  else:\n",
        "    print('application/octet-stream')"
      ],
      "metadata": {
        "colab": {
          "base_uri": "https://localhost:8080/"
        },
        "id": "rt2GKeqNYUKl",
        "outputId": "cfb2365e-7f32-424e-ef2e-3043967a5163"
      },
      "execution_count": null,
      "outputs": [
        {
          "output_type": "stream",
          "name": "stdout",
          "text": [
            "Insert file name: dog.zip\n",
            "image/zip\n"
          ]
        }
      ]
    },
    {
      "cell_type": "code",
      "source": [
        "#Math Interpreter\n",
        "\n",
        "calc = input(\"Insert your mathematical expression: \")\n",
        "x = int(calc[0])\n",
        "y = calc[1]\n",
        "z = int(calc[2])\n",
        "\n",
        "if y not in ('+-*/'):\n",
        "  print('Only accepting +, -, *, /')\n",
        "else:\n",
        "  if y == '+':\n",
        "    print(float(x+z))\n",
        "  elif y == '-':\n",
        "    print(float(x-z))\n",
        "  elif y == '*':\n",
        "    print(float(x*z))\n",
        "  elif y == '/':\n",
        "    if z == 0:\n",
        "      print('Cannot perform division by 0')\n",
        "    else:\n",
        "      print(float(x/z))"
      ],
      "metadata": {
        "colab": {
          "base_uri": "https://localhost:8080/"
        },
        "id": "UFv3civ_a5EQ",
        "outputId": "57b1e2ed-198b-4a46-815e-458929d75272"
      },
      "execution_count": null,
      "outputs": [
        {
          "output_type": "stream",
          "name": "stdout",
          "text": [
            "Insert your mathematical expression: 4/2\n",
            "2.0\n"
          ]
        }
      ]
    },
    {
      "cell_type": "code",
      "source": [
        "#Meal Time \n",
        "\n",
        "def main():\n",
        "  time = input('Insert current time (#:## or ##:##): ')\n",
        "  convert(time)\n",
        "\n",
        "def convert(time):\n",
        "  hour = float(time.split(':')[0])\n",
        "  minute = round(float(time.split(':')[1])/60,1)\n",
        "\n",
        "  new_time = hour + minute \n",
        "  \n",
        "  if new_time >= 7 and new_time <= 8:\n",
        "    print('breakfast time')\n",
        "  elif new_time >= 12 and new_time <= 13:\n",
        "    print('lunch time')\n",
        "  elif new_time >= 18 and new_time <= 19:\n",
        "    print('dinner time')\n",
        "\n",
        "# if __name__ == '__main__':\n",
        "#   main()"
      ],
      "metadata": {
        "id": "5dX5qHcmgiFx"
      },
      "execution_count": null,
      "outputs": []
    },
    {
      "cell_type": "markdown",
      "source": [
        "#**WEEK 3**"
      ],
      "metadata": {
        "id": "two_rf73JEE0"
      }
    },
    {
      "cell_type": "code",
      "source": [
        "import string"
      ],
      "metadata": {
        "id": "iRo7t8lPJNoi"
      },
      "execution_count": 1,
      "outputs": []
    },
    {
      "cell_type": "code",
      "source": [
        "#Felipe's Taqueria\n",
        "\n",
        "def taqueria():\n",
        "  menu_dict = {\n",
        "    \"baja taco\": 4.00,\n",
        "    \"burrito\": 7.50,\n",
        "    \"bowl\": 8.50,\n",
        "    \"nachos\": 11.00,\n",
        "    \"quesadilla\": 8.50,\n",
        "    \"super burrito\": 8.50,\n",
        "    \"super quesadilla\": 9.50,\n",
        "    \"taco\": 3.00,\n",
        "    \"tortilla salad\": 8.00\n",
        "  }\n",
        "\n",
        "  order_total = 0\n",
        "\n",
        "  while True:\n",
        "    try:\n",
        "      order = input('Item: ')\n",
        "      if order.lower() in menu_dict:\n",
        "        order_total += menu_dict[order]\n",
        "        print(f'Total: ${order_total}')\n",
        "      elif order == 'control-d':\n",
        "        break\n",
        "    except ValueError:\n",
        "      pass\n",
        "\n",
        "# taqueria()"
      ],
      "metadata": {
        "id": "gNkGf8HBsGIW"
      },
      "execution_count": 7,
      "outputs": []
    },
    {
      "cell_type": "code",
      "source": [
        "#Grocery List\n",
        "\n",
        "def grocery_list():\n",
        "  \n",
        "  freq = {}\n",
        "  \n",
        "  while True:\n",
        "    try:\n",
        "      grocery = input(\"Item: \")\n",
        "\n",
        "      if grocery == 'ctrl-d':\n",
        "        for k,v in freq.items():\n",
        "          print(v, k)\n",
        "        break\n",
        "      else:\n",
        "        grocery = grocery.upper()\n",
        "        if grocery not in freq:\n",
        "          freq[grocery] = 1\n",
        "        else:\n",
        "          freq[grocery] += 1\n",
        "        \n",
        "    except ValueError:\n",
        "      pass\n",
        "  \n",
        "grocery_list()"
      ],
      "metadata": {
        "colab": {
          "base_uri": "https://localhost:8080/"
        },
        "id": "JsS5zbDqLWux",
        "outputId": "82b61248-af7b-4ce2-f056-97db26c36b51"
      },
      "execution_count": 17,
      "outputs": [
        {
          "output_type": "stream",
          "name": "stdout",
          "text": [
            "Item: apple\n",
            "Item: funko\n",
            "Item: orange\n",
            "Item: apple\n",
            "Item: funko\n",
            "Item: orange\n",
            "Item: orange\n",
            "Item: orange\n",
            "Item: ctrl-d\n",
            "2 APPLE\n",
            "2 FUNKO\n",
            "4 ORANGE\n"
          ]
        }
      ]
    },
    {
      "cell_type": "code",
      "source": [
        "import string"
      ],
      "metadata": {
        "id": "Tn4fOu_l3jqn"
      },
      "execution_count": 2,
      "outputs": []
    },
    {
      "cell_type": "code",
      "source": [
        "#Outdated\n",
        "\n",
        "#for input, insert in these format: M/D/yyyy or Month D, yyyy\n",
        "\n",
        "def fix_date_format_ISO8601():\n",
        "\n",
        "  month_list = {\n",
        "    \"january\": '01',\n",
        "    \"february\": '02',\n",
        "    \"march\": '03',\n",
        "    \"april\": '04',\n",
        "    \"may\": '05',\n",
        "    \"june\": '06',\n",
        "    \"july\": '07',\n",
        "    \"august\": '08',\n",
        "    \"september\": '09',\n",
        "    \"october\": '10',\n",
        "    \"november\": '11',\n",
        "    \"december\": '12'\n",
        "  }\n",
        "\n",
        "  try:\n",
        "    date = input('Date: ')\n",
        "\n",
        "    #First format: M/D/yyyy\n",
        "    if '/' in date and not date[:4].isdigit():\n",
        "      month = date.split('/')[0]\n",
        "      day = date.split('/')[1]\n",
        "      year = date.split('/')[2]\n",
        "      \n",
        "      print('Good')\n",
        "\n",
        "      if int(day) <= 31:\n",
        "        month = ('0' + month) if len(month) == 1 else month\n",
        "        day = ('0' + day) if len(day) == 1 else day\n",
        "        return year + '-' + month + '-' + day\n",
        "    \n",
        "    #Second format: Month D, yyyy\n",
        "    elif ',' in date:\n",
        "      month = date.split(' ')[0]\n",
        "      month = month_list[month.lower()]\n",
        "      day = date.split(' ')[1][:-1]\n",
        "      year = date.split(' ')[2]\n",
        "\n",
        "      if int(day) <= 31:\n",
        "        day = ('0' + day) if len(day) == 1 else day\n",
        "        return year + '-' + month + '-' + day\n",
        "    else:\n",
        "      return 'ERROR'\n",
        "  except ValueError:\n",
        "    pass\n",
        "\n",
        "fix_date_format_ISO8601()"
      ],
      "metadata": {
        "colab": {
          "base_uri": "https://localhost:8080/",
          "height": 55
        },
        "id": "jlTBi1VRROKF",
        "outputId": "9bbfbbd4-040b-4c65-b2d7-025d6bb0bff1"
      },
      "execution_count": 15,
      "outputs": [
        {
          "name": "stdout",
          "output_type": "stream",
          "text": [
            "Date: sempte\n"
          ]
        },
        {
          "output_type": "execute_result",
          "data": {
            "text/plain": [
              "'ERROR'"
            ],
            "application/vnd.google.colaboratory.intrinsic+json": {
              "type": "string"
            }
          },
          "metadata": {},
          "execution_count": 15
        }
      ]
    },
    {
      "cell_type": "code",
      "source": [
        ""
      ],
      "metadata": {
        "id": "yaXUIn_43f0S"
      },
      "execution_count": null,
      "outputs": []
    }
  ]
}